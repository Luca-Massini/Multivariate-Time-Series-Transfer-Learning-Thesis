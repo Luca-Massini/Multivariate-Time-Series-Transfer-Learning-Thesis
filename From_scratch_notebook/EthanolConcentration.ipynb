{
 "cells": [
  {
   "cell_type": "code",
   "execution_count": 1,
   "metadata": {
    "colab": {
     "base_uri": "https://localhost:8080/",
     "height": 1000
    },
    "id": "IBt0GxTU50ff",
    "outputId": "a6594382-62f7-456e-e491-6a79e5838de7"
   },
   "outputs": [],
   "source": [
    "# pip install sktime"
   ]
  },
  {
   "cell_type": "code",
   "execution_count": 2,
   "metadata": {
    "colab": {
     "base_uri": "https://localhost:8080/"
    },
    "id": "7A_l7bnv6T8q",
    "outputId": "c7128108-529c-43d3-ad48-82436dfa04cd"
   },
   "outputs": [],
   "source": [
    "#!git clone https://github_access_token@github.com/Luca-Massini/Time-Series-Classification.git"
   ]
  },
  {
   "cell_type": "code",
   "execution_count": 3,
   "metadata": {
    "colab": {
     "base_uri": "https://localhost:8080/"
    },
    "id": "z_6foewr6WZV",
    "outputId": "88d4be5a-8af1-4fb9-d03a-7f5b7bb8048d"
   },
   "outputs": [],
   "source": [
    "#from google.colab import drive\n",
    "#drive.mount('/content/gdrive')"
   ]
  },
  {
   "cell_type": "code",
   "execution_count": 4,
   "metadata": {
    "id": "MwDSjr_V6ba5"
   },
   "outputs": [],
   "source": [
    "import torch\n",
    "torch.cuda.empty_cache()\n"
   ]
  },
  {
   "cell_type": "code",
   "execution_count": 4,
   "metadata": {
    "colab": {
     "base_uri": "https://localhost:8080/"
    },
    "id": "vruTRQY57Hbs",
    "outputId": "ba7205a7-2e8f-4f74-e446-6be4f08dc863"
   },
   "outputs": [],
   "source": [
    "#cd Time-Series-Classification/"
   ]
  },
  {
   "cell_type": "code",
   "execution_count": 10,
   "metadata": {
    "id": "0DpcqGaf6sk5"
   },
   "outputs": [],
   "source": [
    "from runMultivariate2018DatasetChannel import runMultivariate2018DatasetChannel\n",
    "import warnings\n",
    "warnings.filterwarnings('ignore')\n",
    "import torch"
   ]
  },
  {
   "cell_type": "code",
   "execution_count": 11,
   "metadata": {
    "id": "v7B7OWVr7Jec"
   },
   "outputs": [
    {
     "name": "stdout",
     "output_type": "stream",
     "text": [
      "Execution started\n",
      "AutoEncoder channel size:  3 \n",
      "Number of experiments to be performed:  1\n",
      "\n",
      "experiment number:  1\n"
     ]
    },
    {
     "data": {
      "application/vnd.jupyter.widget-view+json": {
       "model_id": "01d0ad7dc07d4f4192b983ebd7270d28",
       "version_major": 2,
       "version_minor": 0
      },
      "text/plain": [
       "  0%|          | 0/1 [00:00<?, ?it/s]"
      ]
     },
     "metadata": {},
     "output_type": "display_data"
    },
    {
     "name": "stdout",
     "output_type": "stream",
     "text": [
      "\n",
      "\n",
      "\n",
      "\n"
     ]
    }
   ],
   "source": [
    "datasetName = \"EthanolConcentration\"\n",
    "normalization = True\n",
    "data_location = \"../Transformer/Data/Multivariate_ts\"\n",
    "device=torch.device(\"cuda:0\" if torch.cuda.is_available() else \"cpu\")\n",
    "\n",
    "#Hyper-parameters\n",
    "filter_size_autoEncoder=3\n",
    "n_layers_autoEncoder=1\n",
    "convolutions_per_layer_autoEncoder=1\n",
    "n_filters_index_autoEncoder=2\n",
    "reducing_length_factor_autoEncoder=2\n",
    "embedding_size=64\n",
    "feedForward_dimension=256\n",
    "nHeads=8\n",
    "dropout=0.1\n",
    "n_encoders=1\n",
    "\n",
    "experiments_runner = runMultivariate2018DatasetChannel(filter_size_autoEncoder = filter_size_autoEncoder,\n",
    "                                                       n_layers_autoEncoder = n_layers_autoEncoder,\n",
    "                                                       convolutions_per_layer_autoEncoder = convolutions_per_layer_autoEncoder,\n",
    "                                                       n_filters_index_autoEncoder = n_filters_index_autoEncoder,\n",
    "                                                       reducing_length_factor_autoEncoder = reducing_length_factor_autoEncoder,\n",
    "                                                       embedding_size = embedding_size,\n",
    "                                                       feedForward_dimension = feedForward_dimension,\n",
    "                                                       nHeads = nHeads,\n",
    "                                                       dropout = dropout,\n",
    "                                                       n_encoders = n_encoders,\n",
    "                                                       device = device,\n",
    "                                                       dataSetName = datasetName,\n",
    "                                                       dataLocation = data_location,\n",
    "                                                       normalization = normalization)\n",
    "experiments_runner.run(n_exp=5,\n",
    "                       epochs=3500,\n",
    "                       batch_size=64,\n",
    "                       learning_rate=1e-4,\n",
    "                       ReduceLROnPlateau=False,\n",
    "                       optimizer='RAdam',\n",
    "                       factor=0.1,\n",
    "                       min_lr=1e-18,\n",
    "                       patience=10,\n",
    "                       channel_sizes=[3],\n",
    "                       file_to_write_path=\"../Transformer/Data\")"
   ]
  }
 ],
 "metadata": {
  "accelerator": "GPU",
  "colab": {
   "collapsed_sections": [],
   "name": "EthanolConcentration.ipynb",
   "provenance": []
  },
  "kernelspec": {
   "display_name": "Python 3 (ipykernel)",
   "language": "python",
   "name": "python3"
  },
  "language_info": {
   "codemirror_mode": {
    "name": "ipython",
    "version": 3
   },
   "file_extension": ".py",
   "mimetype": "text/x-python",
   "name": "python",
   "nbconvert_exporter": "python",
   "pygments_lexer": "ipython3",
   "version": "3.8.10"
  }
 },
 "nbformat": 4,
 "nbformat_minor": 4
}
