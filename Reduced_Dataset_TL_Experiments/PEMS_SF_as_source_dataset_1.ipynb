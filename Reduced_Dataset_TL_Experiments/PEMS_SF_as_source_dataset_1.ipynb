{
  "cells": [
    {
      "cell_type": "code",
      "execution_count": null,
      "metadata": {
        "id": "Hs15ZHrQSKbF"
      },
      "outputs": [],
      "source": [
        "#!pip install sktime==0.8.0"
      ]
    },
    {
      "cell_type": "code",
      "execution_count": null,
      "metadata": {
        "id": "7A_l7bnv6T8q"
      },
      "outputs": [],
      "source": [
        "#!git clone https://your_github_access_token@github.com/Luca-Massini/TS_classification_experiments.git"
      ]
    },
    {
      "cell_type": "code",
      "execution_count": null,
      "metadata": {
        "id": "z_6foewr6WZV"
      },
      "outputs": [],
      "source": [
        "#from google.colab import drive\n",
        "#drive.mount('/content/gdrive')"
      ]
    },
    {
      "cell_type": "code",
      "execution_count": null,
      "metadata": {
        "id": "MwDSjr_V6ba5"
      },
      "outputs": [],
      "source": [
        "import torch\n",
        "torch.cuda.empty_cache()"
      ]
    },
    {
      "cell_type": "code",
      "execution_count": null,
      "metadata": {
        "id": "vruTRQY57Hbs"
      },
      "outputs": [],
      "source": [
        "#cd TS_classification_experiments/"
      ]
    },
    {
      "cell_type": "code",
      "execution_count": null,
      "metadata": {
        "id": "0DpcqGaf6sk5"
      },
      "outputs": [],
      "source": [
        "from Reduced_Dataset_TL_Experiments.Run_TL_Scalability_Experiments import Run_TL_Scalability_Experiments\n",
        "from Transformer.Data.Multivariate2018Dataset import Multivariate2018Dataset\n",
        "from Transformer.TransformerTL import TransformerTL\n",
        "from Transformer.Data.Multivariate2018FoldsDataset import Multivariate2018FoldsDataset\n",
        "import warnings\n",
        "warnings.filterwarnings('ignore')"
      ]
    },
    {
      "cell_type": "code",
      "source": [
        "#PATHS TO BE CHANGED\n",
        "\n",
        "#where the datasets are saved\n",
        "dataLocation = '/content/gdrive/MyDrive/Multivariate_ts'\n",
        "#where the model for doing transfer learning is saved\n",
        "saved_Tl_Model_Path=\"/content/gdrive/MyDrive/PEMS_SF_model.pt\"\n",
        "#where the final txt file must be saved\n",
        "file_to_write_path='/content/gdrive/MyDrive'\n",
        "\n"
      ],
      "metadata": {
        "id": "cN3r0L9Padvk"
      },
      "execution_count": null,
      "outputs": []
    },
    {
      "cell_type": "code",
      "execution_count": null,
      "metadata": {
        "id": "9XUz6i8vy8R8"
      },
      "outputs": [],
      "source": [
        "dataSetName = \"EthanolConcentration\"\n",
        "normalization = True\n",
        "n_splits = 3\n",
        "trainSet = Multivariate2018FoldsDataset(data_location=dataLocation,\n",
        "                                          normalization=normalization,\n",
        "                                          datasetName=dataSetName,\n",
        "                                          train_test=True,\n",
        "                                          oneHotEncoder=None,\n",
        "                                          fold_index=0,\n",
        "                                          loader=None,\n",
        "                                          number_of_folds = 3)\n",
        "testSet = Multivariate2018Dataset(data_location=dataLocation,\n",
        "                                  normalization=normalization,\n",
        "                                  dataset_name=dataSetName,\n",
        "                                  train_test=False,\n",
        "                                  oneHotEncoder=trainSet.getOneHotEncoder())\n",
        "trainSet_length = trainSet.get_time_length()\n",
        "testSet_length = testSet.get_time_length()\n",
        "if trainSet_length != testSet_length:\n",
        "    if trainSet_length > testSet_length:\n",
        "        testSet.new_length(new_length=trainSet_length)\n",
        "    else:\n",
        "        trainSet.new_length(new_length=testSet_length)"
      ]
    },
    {
      "cell_type": "code",
      "execution_count": null,
      "metadata": {
        "id": "6beCtv6p0TzY"
      },
      "outputs": [],
      "source": [
        "experiment_runner = Run_TL_Scalability_Experiments(target_dataset_train=trainSet,\n",
        "                                                   target_dataset_test=testSet,\n",
        "                                                   saved_Tl_Model_Path=saved_Tl_Model_Path,\n",
        "                                                   number_of_subsets=3,\n",
        "                                                   target_datasetName=\"EthanolConcentration\",\n",
        "                                                   source_dataset=\"PEMS_SF\")"
      ]
    },
    {
      "cell_type": "code",
      "execution_count": null,
      "metadata": {
        "id": "y4Wpwwvm1nyR"
      },
      "outputs": [],
      "source": [
        "experiment_runner.run_fold_experiment_TL(batchSize=25,\n",
        "                                            epochs=3500,\n",
        "                                            learning_rate=1e-4,\n",
        "                                            ReduceLROnPlateau=False,\n",
        "                                            optimizer='RAdam',\n",
        "                                            factor=0.1,\n",
        "                                            min_lr=1e-18,\n",
        "                                            patience=25,\n",
        "                                            print_accuracy_test=False,\n",
        "                                            verbose=False,\n",
        "                                            weight_decay=0,\n",
        "                                            training_loss_functions_plot=False,\n",
        "                                            freeze=True,\n",
        "                                            compute_accuracy_every=5,\n",
        "                                            fold_index = 0,\n",
        "                                            n_experiments = 5,\n",
        "                                            file_to_write_path=file_to_write_path)"
      ]
    },
    {
      "cell_type": "code",
      "execution_count": null,
      "metadata": {
        "id": "aBmgt7EbxuEu"
      },
      "outputs": [],
      "source": [
        "experiment_runner.set_model_hyper_parameters(filter_size_autoEncoder=3,\n",
        "                                              n_layers_autoEncoder=1,\n",
        "                                              convolutions_per_layer_autoEncoder=1,\n",
        "                                              n_filters_index_autoEncoder=2,\n",
        "                                              autoEncoder_encoding_channel_size=10,\n",
        "                                              reducing_length_factor_autoEncoder=2,\n",
        "                                              embedding_size=64,\n",
        "                                              feedForward_dimension=256,\n",
        "                                              nHeads=8,\n",
        "                                              dropout=0.1,\n",
        "                                              n_encoders=1,\n",
        "                                              device=torch.device(\"cuda:0\" if torch.cuda.is_available() else \"cpu\"))"
      ]
    },
    {
      "cell_type": "code",
      "execution_count": null,
      "metadata": {
        "id": "LA2eMepEym1E"
      },
      "outputs": [],
      "source": [
        "experiment_runner.run_fold_experiments_scratch(batchSize=25,\n",
        "                                            epochs=3500,\n",
        "                                            learning_rate=1e-4,\n",
        "                                            ReduceLROnPlateau=False,\n",
        "                                            optimizer='RAdam',\n",
        "                                            factor=0.1,\n",
        "                                            min_lr=1e-18,\n",
        "                                            patience=25,\n",
        "                                            print_accuracy_test=False,\n",
        "                                            verbose=False,\n",
        "                                            weight_decay=0,\n",
        "                                            training_loss_functions_plot=False,\n",
        "                                            freeze=True,\n",
        "                                            compute_accuracy_every=5,\n",
        "                                            fold_index = 0,\n",
        "                                            n_experiments = 5,\n",
        "                                            file_to_write_path=file_to_write_path)"
      ]
    },
    {
      "cell_type": "code",
      "execution_count": null,
      "metadata": {
        "id": "6PNVbD-kCXvJ"
      },
      "outputs": [],
      "source": [
        "dataSetName='FaceDetection'\n",
        "normalization = True\n",
        "n_splits = 3\n",
        "trainSet = Multivariate2018FoldsDataset(data_location=dataLocation,\n",
        "                                          normalization=normalization,\n",
        "                                          datasetName=dataSetName,\n",
        "                                          train_test=True,\n",
        "                                          oneHotEncoder=None,\n",
        "                                          fold_index=0,\n",
        "                                          loader=None,\n",
        "                                          number_of_folds = 3)\n",
        "testSet = Multivariate2018Dataset(data_location=dataLocation,\n",
        "                                  normalization=normalization,\n",
        "                                  dataset_name=dataSetName,\n",
        "                                  train_test=False,\n",
        "                                  oneHotEncoder=trainSet.getOneHotEncoder())\n",
        "trainSet_length = trainSet.get_time_length()\n",
        "testSet_length = testSet.get_time_length()\n",
        "if trainSet_length != testSet_length:\n",
        "    if trainSet_length > testSet_length:\n",
        "        testSet.new_length(new_length=trainSet_length)\n",
        "    else:\n",
        "        trainSet.new_length(new_length=testSet_length)"
      ]
    },
    {
      "cell_type": "code",
      "execution_count": null,
      "metadata": {
        "id": "s8hnei-0Cc36"
      },
      "outputs": [],
      "source": [
        "experiment_runner = Run_TL_Scalability_Experiments(target_dataset_train=trainSet,\n",
        "                                                   target_dataset_test=testSet,\n",
        "                                                   saved_Tl_Model_Path=saved_Tl_Model_Path,\n",
        "                                                   number_of_subsets=3,\n",
        "                                                   target_datasetName=\"FaceDetection\",\n",
        "                                                   source_dataset=\"PEMS_SF\")"
      ]
    },
    {
      "cell_type": "code",
      "execution_count": null,
      "metadata": {
        "id": "dCdO4BmWDmjg"
      },
      "outputs": [],
      "source": [
        "experiment_runner.run_fold_experiment_TL(batchSize=64,\n",
        "                                            epochs=3500,\n",
        "                                            learning_rate=1e-4,\n",
        "                                            ReduceLROnPlateau=False,\n",
        "                                            optimizer='RAdam',\n",
        "                                            factor=0.1,\n",
        "                                            min_lr=1e-18,\n",
        "                                            patience=25,\n",
        "                                            print_accuracy_test=False,\n",
        "                                            verbose=False,\n",
        "                                            weight_decay=0,\n",
        "                                            training_loss_functions_plot=False,\n",
        "                                            freeze=True,\n",
        "                                            compute_accuracy_every=5,\n",
        "                                            fold_index = 0,\n",
        "                                            n_experiments = 5,\n",
        "                                            file_to_write_path='/content/gdrive/MyDrive')"
      ]
    },
    {
      "cell_type": "code",
      "execution_count": null,
      "metadata": {
        "id": "Jc_FnEsQDqac"
      },
      "outputs": [],
      "source": [
        "experiment_runner.set_model_hyper_parameters(filter_size_autoEncoder=3,\n",
        "                                              n_layers_autoEncoder=1,\n",
        "                                              convolutions_per_layer_autoEncoder=1,\n",
        "                                              n_filters_index_autoEncoder=2,\n",
        "                                              autoEncoder_encoding_channel_size=10,\n",
        "                                              reducing_length_factor_autoEncoder=2,\n",
        "                                              embedding_size=128,\n",
        "                                              feedForward_dimension=256,\n",
        "                                              nHeads=8,\n",
        "                                              dropout=0.1,\n",
        "                                              n_encoders=3,\n",
        "                                              device=torch.device(\"cuda:0\" if torch.cuda.is_available() else \"cpu\"))"
      ]
    },
    {
      "cell_type": "code",
      "execution_count": null,
      "metadata": {
        "id": "hpSJO507EaGI"
      },
      "outputs": [],
      "source": [
        "experiment_runner.run_fold_experiments_scratch(batchSize=64,\n",
        "                                            epochs=3500,\n",
        "                                            learning_rate=1e-4,\n",
        "                                            ReduceLROnPlateau=False,\n",
        "                                            optimizer='RAdam',\n",
        "                                            factor=0.1,\n",
        "                                            min_lr=1e-18,\n",
        "                                            patience=25,\n",
        "                                            print_accuracy_test=False,\n",
        "                                            verbose=False,\n",
        "                                            weight_decay=0,\n",
        "                                            training_loss_functions_plot=False,\n",
        "                                            freeze=True,\n",
        "                                            compute_accuracy_every=5,\n",
        "                                            fold_index = 0,\n",
        "                                            n_experiments = 5,\n",
        "                                            file_to_write_path=file_to_write_path)"
      ]
    },
    {
      "cell_type": "code",
      "execution_count": null,
      "metadata": {
        "id": "j6GcK9TbE1O0"
      },
      "outputs": [],
      "source": [
        "dataSetName='Heartbeat'\n",
        "normalization = True\n",
        "n_splits = 3\n",
        "trainSet = Multivariate2018FoldsDataset(data_location=dataLocation,\n",
        "                                          normalization=normalization,\n",
        "                                          datasetName=dataSetName,\n",
        "                                          train_test=True,\n",
        "                                          oneHotEncoder=None,\n",
        "                                          fold_index=0,\n",
        "                                          loader=None,\n",
        "                                          number_of_folds = 3)\n",
        "testSet = Multivariate2018Dataset(data_location=dataLocation,\n",
        "                                  normalization=normalization,\n",
        "                                  dataset_name=dataSetName,\n",
        "                                  train_test=False,\n",
        "                                  oneHotEncoder=trainSet.getOneHotEncoder())\n",
        "trainSet_length = trainSet.get_time_length()\n",
        "testSet_length = testSet.get_time_length()\n",
        "if trainSet_length != testSet_length:\n",
        "    if trainSet_length > testSet_length:\n",
        "        testSet.new_length(new_length=trainSet_length)\n",
        "    else:\n",
        "        trainSet.new_length(new_length=testSet_length)"
      ]
    },
    {
      "cell_type": "code",
      "execution_count": null,
      "metadata": {
        "id": "BthuX3UnE8Gd"
      },
      "outputs": [],
      "source": [
        "experiment_runner = Run_TL_Scalability_Experiments(target_dataset_train=trainSet,\n",
        "                                                   target_dataset_test=testSet,\n",
        "                                                   saved_Tl_Model_Path=saved_Tl_Model_Path,\n",
        "                                                   number_of_subsets=3,\n",
        "                                                   target_datasetName=\"Heartbeat\",\n",
        "                                                   source_dataset=\"PEMS_SF\")"
      ]
    },
    {
      "cell_type": "code",
      "execution_count": null,
      "metadata": {
        "id": "VULgs6AMFDuP"
      },
      "outputs": [],
      "source": [
        "experiment_runner.run_fold_experiment_TL(batchSize=64,\n",
        "                                            epochs=3500,\n",
        "                                            learning_rate=1e-4,\n",
        "                                            ReduceLROnPlateau=False,\n",
        "                                            optimizer='RAdam',\n",
        "                                            factor=0.1,\n",
        "                                            min_lr=1e-18,\n",
        "                                            patience=25,\n",
        "                                            print_accuracy_test=False,\n",
        "                                            verbose=False,\n",
        "                                            weight_decay=0,\n",
        "                                            training_loss_functions_plot=False,\n",
        "                                            freeze=True,\n",
        "                                            compute_accuracy_every=5,\n",
        "                                            fold_index = 0,\n",
        "                                            n_experiments = 5,\n",
        "                                            file_to_write_path=file_to_write_path)"
      ]
    },
    {
      "cell_type": "code",
      "execution_count": null,
      "metadata": {
        "id": "BXKcTjycF1X0"
      },
      "outputs": [],
      "source": [
        "experiment_runner.set_model_hyper_parameters(filter_size_autoEncoder=3,\n",
        "                                              n_layers_autoEncoder=1,\n",
        "                                              convolutions_per_layer_autoEncoder=1,\n",
        "                                              n_filters_index_autoEncoder=2,\n",
        "                                              autoEncoder_encoding_channel_size=10,\n",
        "                                              reducing_length_factor_autoEncoder=2,\n",
        "                                              embedding_size=64,\n",
        "                                              feedForward_dimension=256,\n",
        "                                              nHeads=8,\n",
        "                                              dropout=0.1,\n",
        "                                              n_encoders=1,\n",
        "                                              device=torch.device(\"cuda:0\" if torch.cuda.is_available() else \"cpu\"))"
      ]
    },
    {
      "cell_type": "code",
      "execution_count": null,
      "metadata": {
        "id": "RsAEEJArF5oU"
      },
      "outputs": [],
      "source": [
        "experiment_runner.run_fold_experiments_scratch(batchSize=64,\n",
        "                                            epochs=3500,\n",
        "                                            learning_rate=1e-4,\n",
        "                                            ReduceLROnPlateau=False,\n",
        "                                            optimizer='RAdam',\n",
        "                                            factor=0.1,\n",
        "                                            min_lr=1e-18,\n",
        "                                            patience=25,\n",
        "                                            print_accuracy_test=False,\n",
        "                                            verbose=False,\n",
        "                                            weight_decay=0,\n",
        "                                            training_loss_functions_plot=False,\n",
        "                                            freeze=True,\n",
        "                                            compute_accuracy_every=5,\n",
        "                                            fold_index = 0,\n",
        "                                            n_experiments = 5,\n",
        "                                            file_to_write_path=file_to_write_path)"
      ]
    }
  ],
  "metadata": {
    "accelerator": "GPU",
    "colab": {
      "background_execution": "on",
      "collapsed_sections": [],
      "name": "PEMS_SF as source dataset 1.ipynb",
      "provenance": []
    },
    "kernelspec": {
      "display_name": "Python 3",
      "name": "python3"
    },
    "language_info": {
      "name": "python"
    }
  },
  "nbformat": 4,
  "nbformat_minor": 0
}